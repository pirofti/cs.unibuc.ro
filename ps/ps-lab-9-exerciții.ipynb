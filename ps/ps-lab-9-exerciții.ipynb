{
  "nbformat": 4,
  "nbformat_minor": 0,
  "metadata": {
    "colab": {
      "provenance": []
    },
    "kernelspec": {
      "name": "python3",
      "display_name": "Python 3"
    },
    "language_info": {
      "name": "python"
    }
  },
  "cells": [
    {
      "cell_type": "markdown",
      "source": [
        "# Laboratorul 9\n",
        "\n",
        "Rezolvați exercițiile din îndrumarul PDF. La final, rulați tot notebook-ul și asigurați-vă că nu aveți erori. Salvați fișierul și încărcați-l în assignment-ul de Teams corespunzător grupei voastre."
      ],
      "metadata": {
        "id": "Yyyeym-VC3Bq"
      }
    },
    {
      "cell_type": "code",
      "source": [
        "import numpy as np\n",
        "import matplotlib.pyplot as plt\n",
        "import sklearn\n",
        "import dictlearn"
      ],
      "metadata": {
        "id": "KUu8KcQ_BAXh"
      },
      "execution_count": null,
      "outputs": []
    },
    {
      "cell_type": "code",
      "source": [
        "p = 8           # dimensiunea unui patch (numar de pixeli)\n",
        "s = 6           # sparsitatea\n",
        "N = 1000        # numarul total de patch-uri\n",
        "n = 256         # numarul de atomi din dictionar\n",
        "K = 50          # numarul de iteratii DL\n",
        "sigma = 0.075   # deviatia standard a zgomotului"
      ],
      "metadata": {
        "id": "eORkGiZcW2Ve"
      },
      "execution_count": null,
      "outputs": []
    },
    {
      "cell_type": "code",
      "source": [],
      "metadata": {
        "id": "aQ42npuLhBkx"
      },
      "execution_count": null,
      "outputs": []
    }
  ]
}