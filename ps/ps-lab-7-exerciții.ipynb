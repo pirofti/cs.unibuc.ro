{
  "nbformat": 4,
  "nbformat_minor": 0,
  "metadata": {
    "colab": {
      "provenance": []
    },
    "kernelspec": {
      "name": "python3",
      "display_name": "Python 3"
    },
    "language_info": {
      "name": "python"
    }
  },
  "cells": [
    {
      "cell_type": "markdown",
      "source": [
        "# Laboratorul 7\n",
        "\n",
        "Rezolvați exercițiile de mai jos în celulele care v-au fost puse la dispoziție. La final, rulați tot notebook-ul și asigurați-vă că nu aveți erori. Salvați fișierul și încărcați-l în assignment-ul de Teams corespunzător grupei voastre."
      ],
      "metadata": {
        "id": "Yyyeym-VC3Bq"
      }
    },
    {
      "cell_type": "code",
      "source": [
        "import numpy as np\n",
        "import matplotlib.pyplot as plt"
      ],
      "metadata": {
        "id": "KUu8KcQ_BAXh"
      },
      "execution_count": null,
      "outputs": []
    },
    {
      "cell_type": "markdown",
      "source": [
        "## Exercițiul 1\n",
        "\n",
        "Care este **frecvența de eșantionare** a semnalului de trafic? (revedeți secțiunea pentru detalii despre cum a fost achiziționat acesta)"
      ],
      "metadata": {
        "id": "qTj85twMC6Wq"
      }
    },
    {
      "cell_type": "code",
      "execution_count": null,
      "metadata": {
        "id": "FE8l8HUyCwig"
      },
      "outputs": [],
      "source": []
    },
    {
      "cell_type": "markdown",
      "source": [
        "## Exercițiul 2\n",
        "\n",
        "Ce **interval de timp** acoperă eșantioanele din fișier?"
      ],
      "metadata": {
        "id": "iqjUTeNSDX16"
      }
    },
    {
      "cell_type": "code",
      "source": [],
      "metadata": {
        "id": "XVsXxaqXDkIw"
      },
      "execution_count": null,
      "outputs": []
    },
    {
      "cell_type": "markdown",
      "source": [
        "## Exercițiul 3\n",
        "\n",
        "Presupunând că semnalul a fost eșantionat **corect** (fără aliere) și **optim**, care este **frecvența maximă** prezentă în semnal?"
      ],
      "metadata": {
        "id": "PuIFVaSk9KNo"
      }
    },
    {
      "cell_type": "code",
      "source": [],
      "metadata": {
        "id": "d219NmtJ9KUf"
      },
      "execution_count": null,
      "outputs": []
    },
    {
      "cell_type": "markdown",
      "source": [
        "## Exercițiul 4\n",
        "\n",
        "Utilizați funcția `np.fft.rfft(x)` pentru a calcula **transformata Fourier** a semnalului și afișați grafic **modulul transformatei**.\n",
        "\n",
        "Deoarece valorile pe care le veți calcula sunt în Hz, este important să definiți corect frecvența de eșantionare (astfel încât valorile de frecvențe pe care le obțineți utilizând ultima secvență de cod din ghidul Python din ]îndrumar să aibă o interpretare corectă din punct de vedere fizic)."
      ],
      "metadata": {
        "id": "R9SF1hBg9Qia"
      }
    },
    {
      "cell_type": "code",
      "source": [],
      "metadata": {
        "id": "lsxpQZb29SS-"
      },
      "execution_count": null,
      "outputs": []
    },
    {
      "cell_type": "markdown",
      "source": [
        "## Exercițiul 5\n",
        "\n",
        "Prezintă acest semnal o **componentă continuă**? Dacă da, eliminați-o și afișați semnalul rezultat. Dacă nu, specificați cum ați determinat acest fapt."
      ],
      "metadata": {
        "id": "dz2nGs869Sz2"
      }
    },
    {
      "cell_type": "code",
      "source": [],
      "metadata": {
        "id": "wn4jyCNc9TYe"
      },
      "execution_count": null,
      "outputs": []
    },
    {
      "cell_type": "markdown",
      "source": [
        "## Exercițiul 6\n",
        "\n",
        "Care sunt frecvențele principale conținute în semnal, așa cum apar ele în transformata Fourier? Mai exact, determinați **primele 4 cele mai mari valori** ale modulului transformatei și specificați căror frecvențe (în Hz) le corespund. Căror fenomene periodice din semnal se asociază fiecare?"
      ],
      "metadata": {
        "id": "Nidyg6sH-AKy"
      }
    },
    {
      "cell_type": "code",
      "source": [],
      "metadata": {
        "id": "4pZ97iw_-BDO"
      },
      "execution_count": null,
      "outputs": []
    },
    {
      "cell_type": "markdown",
      "source": [
        "## Exercițiul 7\n",
        "\n",
        "Începând de la un eșantion ales de voi (după cel al 1000-lea), reprezentați, pe un grafic separat, **o lună de trafic**. Alegeți eșantionul de start astfel încât reprezentarea să înceapă într-o **zi de luni**."
      ],
      "metadata": {
        "id": "8qH4De4n-Beq"
      }
    },
    {
      "cell_type": "code",
      "source": [],
      "metadata": {
        "id": "gNK3T5Eg-D9q"
      },
      "execution_count": null,
      "outputs": []
    },
    {
      "cell_type": "markdown",
      "source": [
        "## Exercițiul 8\n",
        "\n",
        "Nu se cunoaște data la care a început măsurarea acestui semnal. Concepeți o **metodă** (descrieți în cuvinte) prin care să determinați, doar analizând semnalul în timp, această dată. Comentați ce neajunsuri ar putea avea soluția propusă și care sunt factorii de care depinde acuratețea ei."
      ],
      "metadata": {
        "id": "jRede9C2-ER-"
      }
    },
    {
      "cell_type": "code",
      "source": [],
      "metadata": {
        "id": "HNV0U_RJ-Eg-"
      },
      "execution_count": null,
      "outputs": []
    }
  ]
}