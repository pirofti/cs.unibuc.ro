{
 "cells": [
  {
   "cell_type": "markdown",
   "metadata": {
    "id": "Yyyeym-VC3Bq"
   },
   "source": [
    "# Laboratorul 7\n",
    "\n",
    "Rezolvați exercițiile de mai jos în celulele care v-au fost puse la dispoziție. La final, rulați tot notebook-ul și asigurați-vă că nu aveți erori. Salvați fișierul și încărcați-l în assignment-ul de Teams corespunzător grupei voastre."
   ]
  },
  {
   "cell_type": "code",
   "execution_count": null,
   "metadata": {
    "id": "KUu8KcQ_BAXh"
   },
   "outputs": [],
   "source": [
    "import math\n",
    "import numpy as np\n",
    "import matplotlib.pyplot as plt"
   ]
  },
  {
   "cell_type": "markdown",
   "metadata": {
    "id": "qTj85twMC6Wq"
   },
   "source": [
    "## Exercițiul 1\n",
    "\n",
    "Realizați graficele din figurile 1 și 2 din îndrumar pentru un semnal sinusoidal cu o frecvență aleasă de voi, _alta_ decât cea utilizată aici.\n",
    "\n",
    "Reamintim că graficul din dreapta din figura 1 reprezintă înfășurarea semnalului pe cercul unitate, anume reprezentarea în planul complex a șirului $y[n] = x[n] \\cdot e^{-2 \\pi i n}$.\n",
    "\n",
    "De asemenea, figura 2 arată influența diferitelor frecvențe de înfășurare asupra formei pe care o are această reprezentare. \\\n",
    "Afișați grafic $z_{\\omega} [n] = x[n] \\cdot e^{-2 \\pi i \\omega n}$, pentru **patru valori diferite** ale $\\omega$, dintre care una egală cu frecvența semnalului."
   ]
  },
  {
   "cell_type": "code",
   "execution_count": null,
   "metadata": {
    "id": "FE8l8HUyCwig"
   },
   "outputs": [],
   "source": []
  },
  {
   "cell_type": "markdown",
   "metadata": {
    "id": "iqjUTeNSDX16"
   },
   "source": [
    "## Exercițiul 2\n",
    "\n",
    "Afișați **modulul** (valoarea absolută) a transformatei Fourier (folosind relația 1 din PDF) pentru un semnal compus de voi, având **cel puțin trei componente de frecvență distincte** (obțineți un grafic asemănător figurii 3).\n",
    "\n",
    "Ajustați frecvențele de înfășurare $\\omega$ utilizate în transformata Fourier în funcție de frecvența caracteristică a sinusoidei."
   ]
  },
  {
   "cell_type": "code",
   "execution_count": null,
   "metadata": {
    "id": "XVsXxaqXDkIw"
   },
   "outputs": [],
   "source": []
  }
 ],
 "metadata": {
  "colab": {
   "authorship_tag": "ABX9TyMcaT30itj1G9wCS9fslGtk",
   "provenance": []
  },
  "kernelspec": {
   "display_name": "Python 3",
   "name": "python3"
  },
  "language_info": {
   "name": "python"
  }
 },
 "nbformat": 4,
 "nbformat_minor": 0
}
