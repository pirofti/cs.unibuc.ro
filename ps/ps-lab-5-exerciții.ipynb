{
 "cells": [
  {
   "cell_type": "markdown",
   "metadata": {
    "id": "Yyyeym-VC3Bq"
   },
   "source": [
    "# Laboratorul 5\n",
    "\n",
    "Rezolvați exercițiile de mai jos în celulele care v-au fost puse la dispoziție. La final, rulați tot notebook-ul și asigurați-vă că nu aveți erori. Salvați fișierul și încărcați-l în assignment-ul de Teams corespunzător grupei voastre."
   ]
  },
  {
   "cell_type": "code",
   "execution_count": null,
   "metadata": {
    "id": "KUu8KcQ_BAXh"
   },
   "outputs": [],
   "source": [
    "import numpy as np\n",
    "import matplotlib.pyplot as plt"
   ]
  },
  {
   "cell_type": "markdown",
   "metadata": {
    "id": "qTj85twMC6Wq"
   },
   "source": [
    "## Exercițiul 1\n",
    "\n",
    "Prespuneți că într-o incintă temperatura este controlată astfel încât să se obțină o periodicitate noapte-zi asemănătoare unei sinusoide; maximul de temperatură ($1^{\\circ} \\text{C}$) se atinge la ora 12:00, minimul ($-1^{\\circ} \\text{C}$) la ora 24:00, nu există variații între zile. Începeți să măsurați temperatura din incintă într-o zi de miercuri, la ora 12:00."
   ]
  },
  {
   "cell_type": "markdown",
   "metadata": {
    "id": "59dzMBKfDCAP"
   },
   "source": [
    "a) Dacă măsurați temperatura la fiecare 2 ore, care va fi **frecvența de eșantionare** (exprimată **în Hz**)?"
   ]
  },
  {
   "cell_type": "code",
   "execution_count": null,
   "metadata": {
    "id": "FE8l8HUyCwig"
   },
   "outputs": [],
   "source": []
  },
  {
   "cell_type": "markdown",
   "metadata": {
    "id": "wRPekKu9DJNA"
   },
   "source": [
    "b) Care este **perioada** semnalului de temperatură și care este **frecvența** acestuia? Este eșantionarea din subpunctul precedent **corectă** în sensul teoremei Nyquist? Care este intervalul de perioada maximă la care trebuie măsurată temperatura astfel încât să îndeplinească criteriul de eșantionare Nyquist?"
   ]
  },
  {
   "cell_type": "code",
   "execution_count": null,
   "metadata": {
    "id": "5TlIq3-FDKzC"
   },
   "outputs": [],
   "source": []
  },
  {
   "cell_type": "markdown",
   "metadata": {
    "id": "hMXXWUyLDQTi"
   },
   "source": [
    "c) Afișați **grafic** cu o curbă sinusoida de temperatură pentru o săptămână și eșantioanele (semnalate grafic prin puncte) obținute cu frecvența de eșantionare de la punctul (a). Afișați conținutul variabilei în care rețineți axa timpului."
   ]
  },
  {
   "cell_type": "code",
   "execution_count": null,
   "metadata": {
    "id": "ZW35vXV9DXGt"
   },
   "outputs": [],
   "source": []
  },
  {
   "cell_type": "markdown",
   "metadata": {
    "id": "Twx0hsPTIAHy"
   },
   "source": [
    "d) Dacă măsurați temperatura **o dată la 5 ore**, în ce zi și la ce oră veți obține **din nou** valoarea din primul eșantion (cel de miercuri, ora 12:00)?"
   ]
  },
  {
   "cell_type": "code",
   "execution_count": null,
   "metadata": {
    "id": "FqbPk-UoIAOx"
   },
   "outputs": [],
   "source": []
  },
  {
   "cell_type": "markdown",
   "metadata": {
    "id": "FfaGVhzYIAj5"
   },
   "source": [
    "e) Generați eșantioanele pentru **noua perioadă de eșantionare** (5 ore). Afișați-le pe un nou grafic folosind funcția `plt.plot()`. Ce observați?"
   ]
  },
  {
   "cell_type": "code",
   "execution_count": null,
   "metadata": {
    "id": "E2fwVIEWIApl"
   },
   "outputs": [],
   "source": []
  },
  {
   "cell_type": "markdown",
   "metadata": {
    "id": "l4dCE_mBIRAZ"
   },
   "source": [
    "f) Creați un nou grafic în care afișați eșantioanele generate la subpunctul precedent folosind, de data aceasta, `plt.stem()`. Adăugați pe acest grafic, cu alte culori, sinusoida și eșantioanele de la subpunctul (c)."
   ]
  },
  {
   "cell_type": "code",
   "execution_count": null,
   "metadata": {
    "id": "ag15FXLMISAZ"
   },
   "outputs": [],
   "source": []
  },
  {
   "cell_type": "markdown",
   "metadata": {
    "id": "iqjUTeNSDX16"
   },
   "source": [
    "## Exercițiul 2\n",
    "\n",
    "Generați și afișați grafic o sinusoidă de frecvență și fază aleasă de voi, dar ale cărei valori minime și maxime (atinse) să fie 3, respectiv 7.\n",
    "     "
   ]
  },
  {
   "cell_type": "code",
   "execution_count": null,
   "metadata": {
    "id": "XVsXxaqXDkIw"
   },
   "outputs": [],
   "source": []
  },
  {
   "cell_type": "markdown",
   "metadata": {
    "id": "Ooeg7xyjD1r7"
   },
   "source": [
    "## Exercițiul 3\n",
    "\n",
    "Calculați frecvența optimă (cea mai eficientă) de eșantionare sub-Nyquist pentru un semnal de bandă $B = 10 \\, \\text{Hz}$ centrat în jurul lui $f_c = 90 \\, \\text{Hz}$ pentru următoarele 3 valori posibile ale numărului de replici: a) m = 1, b) m = 2, c) m = 4."
   ]
  },
  {
   "cell_type": "code",
   "execution_count": null,
   "metadata": {
    "id": "aM78qjAYD2lu"
   },
   "outputs": [],
   "source": []
  },
  {
   "cell_type": "markdown",
   "metadata": {
    "id": "0vgdjOdXIjWR"
   },
   "source": [
    "## Exercițiul 4\n",
    "\n",
    "Puterea unui semnal este $P_{semnal} = 90 \\, \\text{dB}$. Se cunoaște raportul semnal-zgomot, $\\text{SNR}_{\\text{dB}} = 80 \\, \\text{dB}$. Care este puterea zgomotului?\n",
    "\n",
    "**Indicație:** deoarece nu știți puterea de referință față de care se măsoară aceste puteri în decibeli, ar trebui să găsiți răspunsul fără a face conversia în watts."
   ]
  },
  {
   "cell_type": "code",
   "execution_count": null,
   "metadata": {
    "id": "wmcKEkE2IjzK"
   },
   "outputs": [],
   "source": []
  }
 ],
 "metadata": {
  "colab": {
   "authorship_tag": "ABX9TyN9Dbs+rwI7e2sCvPr2FGCA",
   "provenance": []
  },
  "kernelspec": {
   "display_name": "Python 3",
   "name": "python3"
  },
  "language_info": {
   "name": "python"
  }
 },
 "nbformat": 4,
 "nbformat_minor": 0
}
