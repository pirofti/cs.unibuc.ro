{
  "nbformat": 4,
  "nbformat_minor": 0,
  "metadata": {
    "colab": {
      "provenance": []
    },
    "kernelspec": {
      "name": "python3",
      "display_name": "Python 3"
    },
    "language_info": {
      "name": "python"
    }
  },
  "cells": [
    {
      "cell_type": "markdown",
      "source": [
        "# Laboratorul 3\n",
        "\n",
        "Rezolvați exercițiile de mai jos în celulele care v-au fost puse la dispoziție. La final, rulați tot notebook-ul și asigurați-vă că nu aveți erori. Salvați fișierul și încărcați-l în assignment-ul de Teams corespunzător grupei voastre."
      ],
      "metadata": {
        "id": "Yyyeym-VC3Bq"
      }
    },
    {
      "cell_type": "code",
      "source": [
        "import numpy as np\n",
        "import matplotlib.pyplot as plt"
      ],
      "metadata": {
        "id": "KUu8KcQ_BAXh"
      },
      "execution_count": null,
      "outputs": []
    },
    {
      "cell_type": "markdown",
      "source": [
        "## Exercițiul 1\n",
        "\n",
        "Înregistrați-vă în timp ce spuneți, pe rând, vocalele „a, e, i, o, u”  și deschideți fișierul în [Audacity](https://www.audacityteam.org/) pentru a putea vedea spectrograma (sau folosiți o aplicație de telefon care vă poate afișa spectrograma în timp real, cum ar fi [Spectroid](https://play.google.com/store/apps/details?id=org.intoorbit.spectrum&hl=en) pentru Android sau [Audio Spectrum Analyzer](https://apps.apple.com/us/app/audio-spectrum-analyzer-db-rta/id1281873790) pentru iOS). Puteți distinge diferitele vocale pe baza ei?\n",
        "\n",
        "**Încărcați în Teams o captură de ecran cu spectrograma respectivă** (fie din Audacity dacă lucrați pe calculator, fie din aplicația de telefon)."
      ],
      "metadata": {
        "id": "qTj85twMC6Wq"
      }
    },
    {
      "cell_type": "markdown",
      "source": [
        "## Exercițiul 2\n",
        "\n",
        "Frecvențele emise de un contrabas se încadrează între 40Hz și 200Hz.\n",
        "\n",
        "Care este **frecvența minimă** cu care trebuie eșantionat semnalul provenit din înregistrarea instrumentului, astfel încât semnalul discretizat să conțină toate componentele de frecvență pe care instrumentul le poate produce?"
      ],
      "metadata": {
        "id": "iqjUTeNSDX16"
      }
    },
    {
      "cell_type": "code",
      "source": [],
      "metadata": {
        "id": "XVsXxaqXDkIw"
      },
      "execution_count": null,
      "outputs": []
    },
    {
      "cell_type": "markdown",
      "source": [
        "## Exercițiul 3\n",
        "\n",
        "Construiți un semnal sinusoidal de frecvență aleasă de voi, de amplitudine unitară și fază nulă. Realizați un grafic care să arăte că eșantionarea lui cu o **frecvență sub-Nyquist** (aleasă, de asemenea, de voi) generează fenomenul de aliere.\n",
        "\n",
        "În acest scop, generați alte două semnale sinusoidale (cu frecvențe fundamentale _diferite_ față de cea a semnalului inițial) care eșantionate cu frecvența aleasă mai sus produc **aceleași eșantioane** ca semnalul inițial. Ar trebui să obțineți o situație similară cu cea din Figura 2 din PDF."
      ],
      "metadata": {
        "id": "Ooeg7xyjD1r7"
      }
    },
    {
      "cell_type": "code",
      "source": [],
      "metadata": {
        "id": "aM78qjAYD2lu"
      },
      "execution_count": null,
      "outputs": []
    },
    {
      "cell_type": "markdown",
      "source": [
        "## Exercițiul 4\n",
        "\n",
        "Eșantionați încă o dată semnalele de la exercițiul anterior, de data aceasta alegând o frecvență de eșantionare **mai mare decât frecvența Nyquist**, astfel încât să nu mai obțineți fenomenul de aliere. Reprezentați-le grafic pentru a demonstra că nu mai are loc alierea."
      ],
      "metadata": {
        "id": "Pc0z2kP1e_ch"
      }
    },
    {
      "cell_type": "code",
      "source": [],
      "metadata": {
        "id": "ZecDt2kAfB4b"
      },
      "execution_count": null,
      "outputs": []
    }
  ]
}