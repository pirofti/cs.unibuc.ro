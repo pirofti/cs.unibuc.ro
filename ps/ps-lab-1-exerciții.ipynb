{
  "nbformat": 4,
  "nbformat_minor": 0,
  "metadata": {
    "colab": {
      "provenance": []
    },
    "kernelspec": {
      "name": "python3",
      "display_name": "Python 3"
    },
    "language_info": {
      "name": "python"
    }
  },
  "cells": [
    {
      "cell_type": "markdown",
      "source": [
        "# Laboratorul 1"
      ],
      "metadata": {
        "id": "Yyyeym-VC3Bq"
      }
    },
    {
      "cell_type": "markdown",
      "source": [
        "## Exercițiul 1\n",
        "\n",
        "Fie semnalele continue $x(t) = \\cos (520 \\pi t + \\pi/3)$, $y(t) = \\cos (280 \\pi t - \\pi/3)$ și $z(t) = \\cos (120 \\pi t + \\pi/3)$."
      ],
      "metadata": {
        "id": "qTj85twMC6Wq"
      }
    },
    {
      "cell_type": "markdown",
      "source": [
        "- În Python, simulați axa reală de timp printr-un șir de numere suficient de apropiate, spre exemplu $[0:0.0005:0.03]$ (adică intervalul $[0, 0.03]$, discretizat cu un pas de $0.0005$)."
      ],
      "metadata": {
        "id": "59dzMBKfDCAP"
      }
    },
    {
      "cell_type": "code",
      "execution_count": null,
      "metadata": {
        "id": "FE8l8HUyCwig"
      },
      "outputs": [],
      "source": []
    },
    {
      "cell_type": "markdown",
      "source": [
        "- Construiți semnalele $x(t)$, $y(t)$ și $z(t)$ și afișați-le grafic, în câte un subplot."
      ],
      "metadata": {
        "id": "wRPekKu9DJNA"
      }
    },
    {
      "cell_type": "code",
      "source": [],
      "metadata": {
        "id": "5TlIq3-FDKzC"
      },
      "execution_count": null,
      "outputs": []
    },
    {
      "cell_type": "markdown",
      "source": [
        "- Eșantionați semnalele cu o frecvență de 200 Hz pentru a obține $x[n]$, $y[n]$ și $z[n]$ și afișați-le grafic, în câte un subplot."
      ],
      "metadata": {
        "id": "hMXXWUyLDQTi"
      }
    },
    {
      "cell_type": "code",
      "source": [],
      "metadata": {
        "id": "ZW35vXV9DXGt"
      },
      "execution_count": null,
      "outputs": []
    },
    {
      "cell_type": "markdown",
      "source": [
        "## Exercițiul 2\n",
        "\n",
        "Generați semnale descrise mai jos și afișați-le grafic, fiecare într-un plot. Nu aveți voie să folosiți funcțiile predefinite din `scipy.signal`."
      ],
      "metadata": {
        "id": "iqjUTeNSDX16"
      }
    },
    {
      "cell_type": "markdown",
      "source": [
        "- Un semnal **sinusoidal** de frecvență 400 Hz, care să conțină 1600 de eșantioane."
      ],
      "metadata": {
        "id": "YOwTqjd_EQ_6"
      }
    },
    {
      "cell_type": "code",
      "source": [],
      "metadata": {
        "id": "XVsXxaqXDkIw"
      },
      "execution_count": null,
      "outputs": []
    },
    {
      "cell_type": "markdown",
      "source": [
        "- Un semnal **sinusoidal** de frecvență 800 Hz, care să dureze 3 secunde."
      ],
      "metadata": {
        "id": "ASYPcJidERdJ"
      }
    },
    {
      "cell_type": "code",
      "source": [],
      "metadata": {
        "id": "5Rtvf6biERs5"
      },
      "execution_count": null,
      "outputs": []
    },
    {
      "cell_type": "markdown",
      "source": [
        "- Un semnal de tip **sawtooth** de frecvență 240 Hz (puteți folosi funcțiile `numpy.floor` sau `numpy.mod`)."
      ],
      "metadata": {
        "id": "ucGUfpvQER2l"
      }
    },
    {
      "cell_type": "code",
      "source": [],
      "metadata": {
        "id": "ltBzuoz4ER9t"
      },
      "execution_count": null,
      "outputs": []
    },
    {
      "cell_type": "markdown",
      "source": [
        "- Un semnal de tip **square** de frecvență 300 Hz (puteți folosi funcția `numpy.sign`)."
      ],
      "metadata": {
        "id": "-4u3QBtUEW0K"
      }
    },
    {
      "cell_type": "code",
      "source": [],
      "metadata": {
        "id": "i7peAr7dEW8-"
      },
      "execution_count": null,
      "outputs": []
    },
    {
      "cell_type": "markdown",
      "source": [
        "- Un semnal 2D **aleator**. Creați un `numpy.array` de dimensiune 128x128 și inițializați-l aleator, folosind `numpy.random.rand(x, y)`, unde `x` și `y` reprezintă numărul de linii, respectiv de coloane.\n",
        "Afișați semnalul generat folosind funcția `imshow(I)` din `matplotlib`."
      ],
      "metadata": {
        "id": "l4iFBgXsEXGq"
      }
    },
    {
      "cell_type": "code",
      "source": [],
      "metadata": {
        "id": "3qdFJ1ouEXNy"
      },
      "execution_count": null,
      "outputs": []
    },
    {
      "cell_type": "markdown",
      "source": [
        "- Un semnal 2D **la alegerea voastră**. Creați un `numpy.array` de dimensiune 128x128 și inițializați-l folosind o procedură creată de voi.\n",
        "Utilizați, spre exemplu, funcțiile `numpy.zeros()` și `numpy.ones()`."
      ],
      "metadata": {
        "id": "CFhp4QJ9EXTh"
      }
    },
    {
      "cell_type": "code",
      "source": [],
      "metadata": {
        "id": "g4Ke8dmREcSy"
      },
      "execution_count": null,
      "outputs": []
    },
    {
      "cell_type": "markdown",
      "source": [
        "## Exercițiul 3\n",
        "\n",
        "Un semnal este înregistrat cu o frecvență de eșantionare de 2000 Hz.\n",
        "\n",
        "- Care este intervalul de timp între două eșantioane?\n",
        "\n",
        "- Dacă un eșantion este memorat pe 4 biți, câți bytes vor ocupa 1 oră de achiziție?"
      ],
      "metadata": {
        "id": "Ooeg7xyjD1r7"
      }
    },
    {
      "cell_type": "code",
      "source": [],
      "metadata": {
        "id": "aM78qjAYD2lu"
      },
      "execution_count": null,
      "outputs": []
    }
  ]
}