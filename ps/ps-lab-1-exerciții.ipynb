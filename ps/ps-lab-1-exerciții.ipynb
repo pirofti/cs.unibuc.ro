{
 "cells": [
  {
   "cell_type": "markdown",
   "metadata": {
    "id": "8c1GiSexXqAJ"
   },
   "source": [
    "# Laboratorul 1\n",
    "\n",
    "Rezolvați exercițiile de mai jos în celulele care v-au fost puse la dispoziție. La final, rulați tot notebook-ul și asigurați-vă că nu aveți erori. Salvați fișierul și încărcați-l în assignment-ul de Teams corespunzător grupei voastre."
   ]
  },
  {
   "cell_type": "markdown",
   "metadata": {
    "id": "GYYX1ZVyDEYo"
   },
   "source": [
    "## Exercițiul 1\n",
    "\n",
    "Calculați „de mână” următorul produs matrice-vector (scrieți, pe cât posibil, și calculele intermediare):\n",
    "\n",
    "$$\n",
    "\\begin{align*}\n",
    "    A = \\begin{pmatrix}\n",
    "        1 & 0 & 3 \\\\\n",
    "        2 & -1 & 5 \\\\\n",
    "        0 & 7 & 0\n",
    "    \\end{pmatrix}\n",
    "    &\\qquad\n",
    "    v = \\begin{pmatrix}\n",
    "        -2 \\\\\n",
    "        0 \\\\\n",
    "        4\n",
    "    \\end{pmatrix} \\\\[1em]\n",
    "    Av &= ?\n",
    "\\end{align*}\n",
    "$$"
   ]
  },
  {
   "cell_type": "code",
   "execution_count": null,
   "metadata": {
    "id": "Yz_qf47EDS9N"
   },
   "outputs": [],
   "source": []
  },
  {
   "cell_type": "markdown",
   "metadata": {
    "id": "fdPI4QPODVy-"
   },
   "source": [
    "## Exercițiul 2\n",
    "\n",
    "Calculați „de mână” valoarea următoarei integrale:\n",
    "\n",
    "$$\n",
    "    \\int_{-1}^{+1} e^{x} \\, \\mathrm{d} x\n",
    "$$\n",
    "(nu este nevoie să scrieți o valoare numerică aproximativă, răspunsul poate să-l conțină pe $e$)"
   ]
  },
  {
   "cell_type": "code",
   "execution_count": null,
   "metadata": {
    "id": "iyKcE2zXDm5t"
   },
   "outputs": [],
   "source": []
  },
  {
   "cell_type": "markdown",
   "metadata": {
    "id": "BcIqAwOfDqGR"
   },
   "source": [
    "## Exercițiul 3\n",
    "\n",
    "Calculați „de mână”, arătând pașii intermediari, valoarea următoarei integrale:\n",
    "$$\n",
    "    \\int_{0}^{1} e^{i \\pi x} \\mathrm{d} x\n",
    "$$\n",
    "Sfat: puteți să calculați o integrală complexă “spărgând-o” în\n",
    "integrala calculată pentru partea reală, respectiv pentru partea imaginară."
   ]
  },
  {
   "cell_type": "code",
   "execution_count": null,
   "metadata": {
    "id": "R3aV3ov0D1Kn"
   },
   "outputs": [],
   "source": []
  },
  {
   "cell_type": "markdown",
   "metadata": {
    "id": "z-L7fvjhD1i5"
   },
   "source": [
    "## Exercițiul 4\n",
    "\n",
    "Definiți în Python (folosind biblioteca `numpy`) două variabile, care să stocheze matricea $A$, respectiv vectorul $v$, de la exercițiul 1. Puteți urma pașii din [acest tutorial](https://numpy.org/doc/stable/user/basics.creation.html). Calculați același produs matrice-vector, dar de data aceasta folosind [operatorul `@`](https://alysivji.github.io/python-matrix-multiplication-operator.html)\n",
    "din Python/`numpy`."
   ]
  },
  {
   "cell_type": "code",
   "execution_count": null,
   "metadata": {
    "id": "Dj9sBIFFEJDJ"
   },
   "outputs": [],
   "source": []
  },
  {
   "cell_type": "markdown",
   "metadata": {
    "id": "q0YvHSsaEKJQ"
   },
   "source": [
    "## Exercițiul 5\n",
    "\n",
    "Calculați numeric valoarea integralei de la exercițiul 2, folosind [funcția `quad`](https://docs.scipy.org/doc/scipy/tutorial/integrate.html) din [modulul `integrate`](https://docs.scipy.org/doc/scipy/tutorial/integrate.html) al SciPy. Dacă nu\n",
    "ați mai lucrat în trecut cu funcții lambda în Python, tot ce\n",
    "aveți nevoie pentru a defini și transmite funcția de integrat\n",
    "la `integrate.quad` este expresia `lambda x: np.exp(x)` (presupunând că aveți importat modulul `numpy` cu alias-ul `np`)."
   ]
  },
  {
   "cell_type": "code",
   "execution_count": null,
   "metadata": {
    "id": "fbtPm7WhEow9"
   },
   "outputs": [],
   "source": []
  },
  {
   "cell_type": "markdown",
   "metadata": {
    "id": "NRpcTU1eEoZx"
   },
   "source": [
    "## Exercițiul 6\n",
    "\n",
    "Calculați numeric valoarea integralei complexe de la exercițiul\n",
    "3, de data aceasta folosind o altă funcție de integrare numerică\n",
    "în afară de `quad` (e.g. puteți încerca `fixed_quad`). În\n",
    "acest caz, funcția de integrat ar veni `lambda x: np.exp(1j *\n",
    "np.pi * x)`."
   ]
  },
  {
   "cell_type": "code",
   "execution_count": null,
   "metadata": {
    "id": "_EiOn_UtXlaj"
   },
   "outputs": [],
   "source": []
  }
 ],
 "metadata": {
  "colab": {
   "authorship_tag": "ABX9TyMuN4F7l54draERQAqNAWKE",
   "provenance": []
  },
  "kernelspec": {
   "display_name": "Python 3",
   "name": "python3"
  },
  "language_info": {
   "name": "python",
   "version": "3.12.6"
  }
 },
 "nbformat": 4,
 "nbformat_minor": 0
}
