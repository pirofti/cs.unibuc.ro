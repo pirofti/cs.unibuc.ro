{
 "cells": [
  {
   "cell_type": "markdown",
   "metadata": {
    "id": "Yyyeym-VC3Bq"
   },
   "source": [
    "# Laboratorul 2\n",
    "\n",
    "Rezolvați exercițiile de mai jos în celulele care v-au fost puse la dispoziție. La final, rulați tot notebook-ul și asigurați-vă că nu aveți erori. Salvați fișierul și încărcați-l în assignment-ul de Teams corespunzător grupei voastre."
   ]
  },
  {
   "cell_type": "code",
   "execution_count": null,
   "metadata": {
    "id": "KUu8KcQ_BAXh"
   },
   "outputs": [],
   "source": [
    "import numpy as np\n",
    "import matplotlib.pyplot as plt"
   ]
  },
  {
   "cell_type": "markdown",
   "metadata": {
    "id": "qTj85twMC6Wq"
   },
   "source": [
    "## Exercițiul 1\n",
    "\n",
    "Fie semnalele continue $x(t) = \\cos (520 \\pi t + \\pi/3)$, $y(t) = \\cos (280 \\pi t - \\pi/3)$ și $z(t) = \\cos (120 \\pi t + \\pi/3)$."
   ]
  },
  {
   "cell_type": "markdown",
   "metadata": {
    "id": "59dzMBKfDCAP"
   },
   "source": [
    "- În Python, simulați axa reală de timp printr-un șir de numere suficient de apropiate, spre exemplu $[0:0.0005:0.03]$ (adică intervalul $[0, 0.03]$, discretizat cu un pas de $0.0005$)."
   ]
  },
  {
   "cell_type": "code",
   "execution_count": null,
   "metadata": {
    "id": "FE8l8HUyCwig"
   },
   "outputs": [],
   "source": []
  },
  {
   "cell_type": "markdown",
   "metadata": {
    "id": "wRPekKu9DJNA"
   },
   "source": [
    "- Construiți semnalele $x(t)$, $y(t)$ și $z(t)$ și afișați-le grafic, în câte un subplot."
   ]
  },
  {
   "cell_type": "code",
   "execution_count": null,
   "metadata": {
    "id": "5TlIq3-FDKzC"
   },
   "outputs": [],
   "source": []
  },
  {
   "cell_type": "markdown",
   "metadata": {
    "id": "hMXXWUyLDQTi"
   },
   "source": [
    "- Eșantionați semnalele cu o frecvență de 200 Hz pentru a obține $x[n]$, $y[n]$ și $z[n]$ și afișați-le grafic, în câte un subplot."
   ]
  },
  {
   "cell_type": "code",
   "execution_count": null,
   "metadata": {
    "id": "ZW35vXV9DXGt"
   },
   "outputs": [],
   "source": []
  },
  {
   "cell_type": "markdown",
   "metadata": {
    "id": "iqjUTeNSDX16"
   },
   "source": [
    "## Exercițiul 2\n",
    "\n",
    "Generați semnale descrise mai jos și afișați-le grafic, fiecare într-un plot. Nu aveți voie să folosiți funcțiile predefinite din `scipy.signal`."
   ]
  },
  {
   "cell_type": "markdown",
   "metadata": {
    "id": "YOwTqjd_EQ_6"
   },
   "source": [
    "- Un semnal **sinusoidal** de frecvență 400 Hz, care să conțină 1600 de eșantioane."
   ]
  },
  {
   "cell_type": "code",
   "execution_count": null,
   "metadata": {
    "id": "XVsXxaqXDkIw"
   },
   "outputs": [],
   "source": []
  },
  {
   "cell_type": "markdown",
   "metadata": {
    "id": "ASYPcJidERdJ"
   },
   "source": [
    "- Un semnal **sinusoidal** de frecvență 800 Hz, care să dureze 3 secunde."
   ]
  },
  {
   "cell_type": "code",
   "execution_count": null,
   "metadata": {
    "id": "5Rtvf6biERs5"
   },
   "outputs": [],
   "source": []
  },
  {
   "cell_type": "markdown",
   "metadata": {
    "id": "ucGUfpvQER2l"
   },
   "source": [
    "- Un semnal de tip **sawtooth** de frecvență 240 Hz (puteți folosi funcțiile `numpy.floor` sau `numpy.mod`)."
   ]
  },
  {
   "cell_type": "code",
   "execution_count": null,
   "metadata": {
    "id": "ltBzuoz4ER9t"
   },
   "outputs": [],
   "source": []
  },
  {
   "cell_type": "markdown",
   "metadata": {
    "id": "-4u3QBtUEW0K"
   },
   "source": [
    "- Un semnal de tip **square** de frecvență 300 Hz (puteți folosi funcția `numpy.sign`)."
   ]
  },
  {
   "cell_type": "code",
   "execution_count": null,
   "metadata": {
    "id": "i7peAr7dEW8-"
   },
   "outputs": [],
   "source": []
  },
  {
   "cell_type": "markdown",
   "metadata": {
    "id": "l4iFBgXsEXGq"
   },
   "source": [
    "- Un semnal 2D **aleator**. Creați un `numpy.array` de dimensiune 128x128 și inițializați-l aleator, folosind `numpy.random.rand(x, y)`, unde `x` și `y` reprezintă numărul de linii, respectiv de coloane.\n",
    "Afișați semnalul generat folosind funcția `imshow(I)` din `matplotlib`."
   ]
  },
  {
   "cell_type": "code",
   "execution_count": null,
   "metadata": {
    "id": "3qdFJ1ouEXNy"
   },
   "outputs": [],
   "source": []
  },
  {
   "cell_type": "markdown",
   "metadata": {
    "id": "CFhp4QJ9EXTh"
   },
   "source": [
    "- Un semnal 2D **la alegerea voastră**. Creați un `numpy.array` de dimensiune 128x128 și inițializați-l folosind o procedură creată de voi.\n",
    "Utilizați, spre exemplu, funcțiile `numpy.zeros()` și `numpy.ones()`."
   ]
  },
  {
   "cell_type": "code",
   "execution_count": null,
   "metadata": {
    "id": "g4Ke8dmREcSy"
   },
   "outputs": [],
   "source": []
  },
  {
   "cell_type": "markdown",
   "metadata": {
    "id": "Ooeg7xyjD1r7"
   },
   "source": [
    "## Exercițiul 3\n",
    "\n",
    "Un semnal este înregistrat cu o frecvență de eșantionare de 2000 Hz.\n",
    "\n",
    "- Care este intervalul de timp între două eșantioane?\n",
    "\n",
    "- Dacă un eșantion este memorat pe 4 biți, câți bytes vor ocupa 1 oră de achiziție?"
   ]
  },
  {
   "cell_type": "code",
   "execution_count": null,
   "metadata": {
    "id": "aM78qjAYD2lu"
   },
   "outputs": [],
   "source": []
  }
 ],
 "metadata": {
  "colab": {
   "authorship_tag": "ABX9TyM0dUN1PKP9OnPWMqiIbRpp",
   "provenance": []
  },
  "kernelspec": {
   "display_name": "Python 3",
   "name": "python3"
  },
  "language_info": {
   "name": "python"
  }
 },
 "nbformat": 4,
 "nbformat_minor": 0
}
