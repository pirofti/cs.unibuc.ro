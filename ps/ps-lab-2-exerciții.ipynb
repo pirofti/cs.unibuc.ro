{
  "nbformat": 4,
  "nbformat_minor": 0,
  "metadata": {
    "colab": {
      "provenance": []
    },
    "kernelspec": {
      "name": "python3",
      "display_name": "Python 3"
    },
    "language_info": {
      "name": "python"
    }
  },
  "cells": [
    {
      "cell_type": "markdown",
      "source": [
        "# Laboratorul 2\n",
        "\n",
        "Rezolvați exercițiile de mai jos în celulele care v-au fost puse la dispoziție. La final, rulați tot notebook-ul și asigurați-vă că nu aveți erori. Salvați fișierul și încărcați-l în assignment-ul de Teams corespunzător grupei voastre."
      ],
      "metadata": {
        "id": "Yyyeym-VC3Bq"
      }
    },
    {
      "cell_type": "code",
      "source": [
        "import numpy as np\n",
        "import matplotlib.pyplot as plt\n",
        "import scipy.io\n",
        "import sounddevice"
      ],
      "metadata": {
        "id": "KUu8KcQ_BAXh"
      },
      "execution_count": null,
      "outputs": []
    },
    {
      "cell_type": "markdown",
      "source": [
        "## Exercițiul 1\n",
        "\n",
        "Generați un semnal sinusoidal folosind funcția sinus (`np.sin`) cu o amplitudine, frecvență și fază aleasă de voi. Generați apoi un semnal folosind funcția cosinus (`np.cos`) astfel încât, pe orizontul de timp ales, acesta să fie identic cu semnalul sinus. Verificați afișându-le grafic în două subplot-uri diferite."
      ],
      "metadata": {
        "id": "qTj85twMC6Wq"
      }
    },
    {
      "cell_type": "code",
      "execution_count": null,
      "metadata": {
        "id": "FE8l8HUyCwig"
      },
      "outputs": [],
      "source": []
    },
    {
      "cell_type": "markdown",
      "source": [
        "## Exercițiul 2\n",
        "\n",
        "Generați un semnal sinusoidal de amplitudine egală cu 1 și cu o frecvență aleasă de voi. Încercați 4 valori diferite pentru fază. Afișați toate semnalele pe același grafic."
      ],
      "metadata": {
        "id": "iqjUTeNSDX16"
      }
    },
    {
      "cell_type": "code",
      "source": [],
      "metadata": {
        "id": "XVsXxaqXDkIw"
      },
      "execution_count": null,
      "outputs": []
    },
    {
      "cell_type": "markdown",
      "source": [
        "## Exercițiul 3\n",
        "\n",
        "Generați două semnale cu forme de undă diferite (ex. unul sinusoidal, celălalt sawtooth) pe același orizont de timp și adunațile eșantioanele. Afișați grafic cele două semnale inițiale și suma lor, fiecare în câte un subplot."
      ],
      "metadata": {
        "id": "Ooeg7xyjD1r7"
      }
    },
    {
      "cell_type": "code",
      "source": [],
      "metadata": {
        "id": "aM78qjAYD2lu"
      },
      "execution_count": null,
      "outputs": []
    },
    {
      "cell_type": "markdown",
      "source": [
        "## Exercițiul 4\n",
        "\n",
        "Generați două semnale cu aceeași formă de undă, dar de frecvențe diferite, și concatenați-le (puneți-le unul după celălalt în același vector). Redați audio rezultatul și notați ce observați.\n",
        "\n",
        "**Observație:** Intervalul de frecvențe pe care îl poate percepe urechea umană este aproximativ 40&ndash;20000 Hz. Semnalele voastre ar trebui să aibă frecvențele fundamentale în acest interval dacă vreți să le puteți auzi. Frecvența de eșantionare ar trebui să fie 44100 Hz."
      ],
      "metadata": {
        "id": "Pc0z2kP1e_ch"
      }
    },
    {
      "cell_type": "code",
      "source": [],
      "metadata": {
        "id": "ZecDt2kAfB4b"
      },
      "execution_count": null,
      "outputs": []
    },
    {
      "cell_type": "markdown",
      "source": [
        "## Exercițiul 5\n",
        "\n",
        "Generați un semnal sinusoidal de frecvență 200 Hz, eșantionat la o frecvență de 400 Hz pe un interval de timp ales de voi (dar suficient de mic cât să puteți distinge oscilațiile). Decimați-l la 1/4 din frecvența inițială (păstrați doar al 4-lea fiecare element din vector)."
      ],
      "metadata": {
        "id": "3X2tyWb0fMQb"
      }
    },
    {
      "cell_type": "markdown",
      "source": [
        "1. Afișați grafic semnalul inițial și cel decimat și comentați\n",
        "diferențele."
      ],
      "metadata": {
        "id": "U6y4SSByfTZz"
      }
    },
    {
      "cell_type": "code",
      "source": [],
      "metadata": {
        "id": "7LizqL7TfQdz"
      },
      "execution_count": null,
      "outputs": []
    },
    {
      "cell_type": "markdown",
      "source": [
        "2. Repetați decimarea (tot la 1/4 din frecvența inițială) pornind acum de la al doilea sau de la al treilea element din vector. Ce observați? Este decimarea invariantă în timp?"
      ],
      "metadata": {
        "id": "p0MKqa-sfUeq"
      }
    },
    {
      "cell_type": "code",
      "source": [],
      "metadata": {
        "id": "MR-lodnsfWIa"
      },
      "execution_count": null,
      "outputs": []
    },
    {
      "cell_type": "markdown",
      "source": [
        "## Exercițiul 6\n",
        "\n",
        "În practică se operează des cu următoarea aproximare: pentru valori mici ale lui $\\alpha$, $\\sin(\\alpha) \\approx \\alpha$. Verificați dacă această aproximare este bună, reprezentând grafic cele două curbe ($f (x) = x$\n",
        "și $f (x) = \\sin(x)$) pentru valori în intervalul $[-\\pi/2, \\pi/2]$."
      ],
      "metadata": {
        "id": "ut5xKJI3fRGE"
      }
    },
    {
      "cell_type": "code",
      "source": [],
      "metadata": {
        "id": "b4ZnsZ3ffjfb"
      },
      "execution_count": null,
      "outputs": []
    }
  ]
}