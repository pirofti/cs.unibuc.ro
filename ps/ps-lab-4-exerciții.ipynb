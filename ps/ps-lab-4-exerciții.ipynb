{
 "cells": [
  {
   "cell_type": "markdown",
   "metadata": {
    "id": "Yyyeym-VC3Bq"
   },
   "source": [
    "# Laboratorul 4\n",
    "\n",
    "Rezolvați exercițiile de mai jos în celulele care v-au fost puse la dispoziție. La final, rulați tot notebook-ul și asigurați-vă că nu aveți erori. Salvați fișierul și încărcați-l în assignment-ul de Teams corespunzător grupei voastre."
   ]
  },
  {
   "cell_type": "code",
   "execution_count": null,
   "metadata": {
    "id": "KUu8KcQ_BAXh"
   },
   "outputs": [],
   "source": [
    "import numpy as np\n",
    "import matplotlib.pyplot as plt"
   ]
  },
  {
   "cell_type": "markdown",
   "metadata": {
    "id": "qTj85twMC6Wq"
   },
   "source": [
    "## Exercițiul 1\n",
    "\n",
    "Înregistrați-vă în timp ce spuneți, pe rând, vocalele „a, e, i, o, u”  și deschideți fișierul în [Audacity](https://www.audacityteam.org/) pentru a putea vedea spectrograma (sau folosiți o aplicație de telefon care vă poate afișa spectrograma în timp real, cum ar fi [Spectroid](https://play.google.com/store/apps/details?id=org.intoorbit.spectrum&hl=en) pentru Android sau [Audio Spectrum Analyzer](https://apps.apple.com/us/app/audio-spectrum-analyzer-db-rta/id1281873790) pentru iOS). Puteți distinge diferitele vocale pe baza ei?\n",
    "\n",
    "**Încărcați în Teams o captură de ecran cu spectrograma respectivă** (fie din Audacity dacă lucrați pe calculator, fie din aplicația de telefon)."
   ]
  },
  {
   "cell_type": "markdown",
   "metadata": {
    "id": "iqjUTeNSDX16"
   },
   "source": [
    "## Exercițiul 2\n",
    "\n",
    "Frecvențele emise de un contrabas se încadrează între 40Hz și 200Hz.\n",
    "\n",
    "Care este **frecvența minimă** cu care trebuie eșantionat semnalul provenit din înregistrarea instrumentului, astfel încât semnalul discretizat să conțină toate componentele de frecvență pe care instrumentul le poate produce?"
   ]
  },
  {
   "cell_type": "code",
   "execution_count": null,
   "metadata": {
    "id": "XVsXxaqXDkIw"
   },
   "outputs": [],
   "source": []
  },
  {
   "cell_type": "markdown",
   "metadata": {
    "id": "Ooeg7xyjD1r7"
   },
   "source": [
    "## Exercițiul 3\n",
    "\n",
    "Construiți un semnal sinusoidal de frecvență aleasă de voi, de amplitudine unitară și fază nulă. Realizați un grafic care să arăte că eșantionarea lui cu o **frecvență sub-Nyquist** (aleasă, de asemenea, de voi) generează fenomenul de aliere.\n",
    "\n",
    "În acest scop, generați alte două semnale sinusoidale (cu frecvențe fundamentale _diferite_ față de cea a semnalului inițial) care eșantionate cu frecvența aleasă mai sus produc **aceleași eșantioane** ca semnalul inițial. Ar trebui să obțineți o situație similară cu cea din Figura 2 din PDF."
   ]
  },
  {
   "cell_type": "code",
   "execution_count": null,
   "metadata": {
    "id": "aM78qjAYD2lu"
   },
   "outputs": [],
   "source": []
  },
  {
   "cell_type": "markdown",
   "metadata": {
    "id": "Pc0z2kP1e_ch"
   },
   "source": [
    "## Exercițiul 4\n",
    "\n",
    "Eșantionați încă o dată semnalele de la exercițiul anterior, de data aceasta alegând o frecvență de eșantionare **mai mare decât frecvența Nyquist**, astfel încât să nu mai obțineți fenomenul de aliere. Reprezentați-le grafic pentru a demonstra că nu mai are loc alierea."
   ]
  },
  {
   "cell_type": "code",
   "execution_count": null,
   "metadata": {
    "id": "ZecDt2kAfB4b"
   },
   "outputs": [],
   "source": []
  }
 ],
 "metadata": {
  "colab": {
   "authorship_tag": "ABX9TyN/9XAbFOH1f6u2VUwbmB3h",
   "provenance": []
  },
  "kernelspec": {
   "display_name": "Python 3",
   "name": "python3"
  },
  "language_info": {
   "name": "python"
  }
 },
 "nbformat": 4,
 "nbformat_minor": 0
}
