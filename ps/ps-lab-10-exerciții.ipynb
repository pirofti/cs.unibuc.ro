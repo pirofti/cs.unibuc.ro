{
 "cells": [
  {
   "cell_type": "markdown",
   "metadata": {
    "id": "Yyyeym-VC3Bq"
   },
   "source": [
    "# Laboratorul 10\n",
    "\n",
    "Rezolvați exercițiile din îndrumarul PDF. La final, rulați tot notebook-ul și asigurați-vă că nu aveți erori. Salvați fișierul și încărcați-l în assignment-ul de Teams corespunzător grupei voastre."
   ]
  },
  {
   "cell_type": "code",
   "execution_count": null,
   "metadata": {
    "id": "KUu8KcQ_BAXh"
   },
   "outputs": [],
   "source": [
    "import numpy as np\n",
    "import matplotlib.pyplot as plt\n",
    "import sklearn\n",
    "import dictlearn"
   ]
  },
  {
   "cell_type": "code",
   "execution_count": null,
   "metadata": {
    "id": "eORkGiZcW2Ve"
   },
   "outputs": [],
   "source": [
    "p = 8           # dimensiunea unui patch (numar de pixeli)\n",
    "s = 6           # sparsitatea\n",
    "N = 1000        # numarul total de patch-uri\n",
    "n = 256         # numarul de atomi din dictionar\n",
    "K = 50          # numarul de iteratii DL\n",
    "sigma = 0.075   # deviatia standard a zgomotului"
   ]
  },
  {
   "cell_type": "code",
   "execution_count": null,
   "metadata": {
    "id": "aQ42npuLhBkx"
   },
   "outputs": [],
   "source": []
  }
 ],
 "metadata": {
  "colab": {
   "authorship_tag": "ABX9TyNtpWl8j3/2vlCiYMcoYDsI",
   "provenance": [
    {
     "file_id": "1tfTkMMv9XfT0NdyBEM1EKcnSSy9btqhp",
     "timestamp": 1701620753057
    }
   ]
  },
  "kernelspec": {
   "display_name": "Python 3",
   "name": "python3"
  },
  "language_info": {
   "name": "python"
  }
 },
 "nbformat": 4,
 "nbformat_minor": 0
}
